{
 "cells": [
  {
   "cell_type": "markdown",
   "id": "5dd9ceea",
   "metadata": {},
   "source": [
    "# NOTEBOOK 05: MARKET BASKET ANALYSIS\n",
    "\n",
    "* Mục tiêu: Khám phá các liên tưởng sản phẩm và mô hình mua hàng\n",
    "* Phương pháp: Thuật toán Apriori\n",
    "* Giá trị kinh doanh: Đóng gói sản phẩm, chiến lược bán chéo, tối ưu hóa bố cục"
   ]
  },
  {
   "cell_type": "markdown",
   "id": "4d5025f5",
   "metadata": {},
   "source": [
    "## CELL 1: SETUP & DATA PREPARATION\n",
    "\n",
    "* Mục tiêu: Chuẩn bị dữ liệu giao dịch để tìm hiểu những sản phẩm hoặc danh mục sản phẩm thường được mua cùng nhau."
   ]
  },
  {
   "cell_type": "code",
   "execution_count": 4,
   "id": "17bbf5ca",
   "metadata": {},
   "outputs": [
    {
     "name": "stdout",
     "output_type": "stream",
     "text": [
      "============================================================\n",
      "🛒 MARKET BASKET ANALYSIS\n",
      "============================================================\n"
     ]
    }
   ],
   "source": [
    "import pandas as pd\n",
    "import numpy as np\n",
    "import matplotlib.pyplot as plt\n",
    "import seaborn as sns\n",
    "from mlxtend.frequent_patterns import apriori, association_rules\n",
    "from mlxtend.preprocessing import TransactionEncoder\n",
    "import warnings\n",
    "warnings.filterwarnings('ignore')\n",
    "\n",
    "print(\"=\"*60)\n",
    "print(\"🛒 MARKET BASKET ANALYSIS\")\n",
    "print(\"=\"*60)"
   ]
  },
  {
   "cell_type": "markdown",
   "id": "0fcc1bf3",
   "metadata": {},
   "source": [
    "1. LOAD TRANSACTION DATA"
   ]
  },
  {
   "cell_type": "code",
   "execution_count": 3,
   "id": "fbd14935",
   "metadata": {},
   "outputs": [
    {
     "name": "stdout",
     "output_type": "stream",
     "text": [
      "\n",
      "1️⃣ Loading transaction data...\n",
      "   ✅ Order items: 112,650 records\n",
      "   ✅ Orders: 99,441 records\n",
      "   ✅ Products: 32,951 records\n"
     ]
    }
   ],
   "source": [
    "# ============================================\n",
    "# 1. LOAD TRANSACTION DATA\n",
    "# ============================================\n",
    "print(\"\\n1️⃣ Loading transaction data...\")\n",
    "\n",
    "# Load order items\n",
    "order_items = pd.read_csv('D:/Project/DataMining/ecommerce-customer-analytics/data/raw/olist_order_items_dataset.csv')\n",
    "orders = pd.read_csv('D:/Project/DataMining/ecommerce-customer-analytics/data/raw/olist_orders_dataset.csv')\n",
    "products = pd.read_csv('D:/Project/DataMining/ecommerce-customer-analytics/data/raw/olist_products_dataset.csv')\n",
    "\n",
    "print(f\"   ✅ Order items: {len(order_items):,} records\")\n",
    "print(f\"   ✅ Orders: {len(orders):,} records\")\n",
    "print(f\"   ✅ Products: {len(products):,} records\")"
   ]
  },
  {
   "cell_type": "markdown",
   "id": "1b0cbec6",
   "metadata": {},
   "source": [
    "* Mục tiêu: Tải dữ liệu giao dịch từ hệ thống đơn hàng (order_items, orders, products) để xác định cấu trúc dữ liệu cơ bản cho phân tích giỏ hàng.\n",
    "* Kết quả:\n",
    "    * 112,650 order items\n",
    "    * 99,441 orders\n",
    "    * 32,951 unique products\n",
    "* Ý nghĩa: Cho thấy dữ liệu thương mại điện tử của bạn rất rộng (32K sản phẩm), nhưng chưa biết được mỗi đơn hàng có bao nhiêu sản phẩm."
   ]
  },
  {
   "cell_type": "markdown",
   "id": "81865e9e",
   "metadata": {},
   "source": [
    " 2. MERGE AND FILTER"
   ]
  },
  {
   "cell_type": "code",
   "execution_count": 5,
   "id": "0ea05d2e",
   "metadata": {},
   "outputs": [
    {
     "name": "stdout",
     "output_type": "stream",
     "text": [
      "\n",
      "2️⃣ Preparing basket data...\n",
      "   ✅ Delivered order items: 110,197\n",
      "   ✅ Unique orders: 96,478\n",
      "   ✅ Unique products: 32,216\n"
     ]
    }
   ],
   "source": [
    "# ============================================\n",
    "# 2. MERGE AND FILTER\n",
    "# ============================================\n",
    "print(\"\\n2️⃣ Preparing basket data...\")\n",
    "\n",
    "# Merge to get complete order info\n",
    "baskets = order_items.merge(\n",
    "    orders[['order_id', 'order_status', 'customer_id']], \n",
    "    on='order_id'\n",
    ").merge(\n",
    "    products[['product_id', 'product_category_name']], \n",
    "    on='product_id',\n",
    "    how='left'\n",
    ")\n",
    "\n",
    "# Filter only delivered orders\n",
    "baskets = baskets[baskets['order_status'] == 'delivered']\n",
    "\n",
    "print(f\"   ✅ Delivered order items: {len(baskets):,}\")\n",
    "print(f\"   ✅ Unique orders: {baskets['order_id'].nunique():,}\")\n",
    "print(f\"   ✅ Unique products: {baskets['product_id'].nunique():,}\")"
   ]
  },
  {
   "cell_type": "markdown",
   "id": "10ad7d42",
   "metadata": {},
   "source": [
    "* Mục đích:Lọc ra các đơn hàng đã giao thành công (delivered) để đảm bảo phân tích phản ánh hành vi mua thật, không tính hủy hoặc chờ giao.\n",
    "* Kết quả:\n",
    "    * 110,197 order items hợp lệ\n",
    "    * 96,478 đơn hàng duy nhất\n",
    "    * 32,216 sản phẩm duy nhất\n",
    "* -> Cho thấy ~98% đơn hàng đã giao, rất tốt để phân tích hành vi khách hàng.\n",
    "-> Giữ lại dữ liệu thực tế nhất về hành vi mua hàng."
   ]
  },
  {
   "cell_type": "markdown",
   "id": "6dbce535",
   "metadata": {},
   "source": [
    "3. LOAD CATEGORY TRANSLATION"
   ]
  },
  {
   "cell_type": "code",
   "execution_count": 6,
   "id": "9a50a2ca",
   "metadata": {},
   "outputs": [
    {
     "name": "stdout",
     "output_type": "stream",
     "text": [
      "\n",
      "3️⃣ Loading product categories...\n",
      "   ✅ Categories translated to English\n",
      "   ✅ Unique categories: 74\n"
     ]
    }
   ],
   "source": [
    "# ============================================\n",
    "# 3. LOAD CATEGORY TRANSLATION\n",
    "# ============================================\n",
    "print(\"\\n3️⃣ Loading product categories...\")\n",
    "\n",
    "try:\n",
    "    category_translation = pd.read_csv('D:/Project/DataMining/ecommerce-customer-analytics/data/raw/product_category_name_translation.csv')\n",
    "    baskets = baskets.merge(\n",
    "        category_translation,\n",
    "        on='product_category_name',\n",
    "        how='left'\n",
    "    )\n",
    "    baskets['category'] = baskets['product_category_name_english'].fillna(\n",
    "        baskets['product_category_name']\n",
    "    ).fillna('unknown')\n",
    "    print(f\"   ✅ Categories translated to English\")\n",
    "except:\n",
    "    baskets['category'] = baskets['product_category_name'].fillna('unknown')\n",
    "    print(f\"   ⚠️  Using Portuguese category names\")\n",
    "\n",
    "print(f\"   ✅ Unique categories: {baskets['category'].nunique()}\")\n"
   ]
  },
  {
   "cell_type": "markdown",
   "id": "30ecd4ac",
   "metadata": {},
   "source": [
    "* Mục đích:\n",
    "    * Chuẩn hóa tên sản phẩm → gắn nhãn danh mục (category) → dịch sang tiếng Anh để dễ diễn giải khi phân tích.\n",
    "* Kết quả:\n",
    "    * 74 danh mục sản phẩm sau khi dịch\n",
    "    * Các danh mục gồm: health_beauty, furniture_decor, bed_bath_table, computers_accessories…\n",
    "* -> Nếu phân tích 32K sản phẩm riêng lẻ sẽ quá thưa (sparse) -> chuẩn hóa tên sản phẩm thành gán nhãn danh mục và thu được 74 danh mục sản phẩm.\n",
    "* -> Dùng category-level aggregation giúp tìm pattern mua cùng dễ hơn và có ý nghĩa marketing hơn (VD: health_beauty ↔ perfumes thay vì product_1234 ↔ product_5678)."
   ]
  },
  {
   "cell_type": "markdown",
   "id": "8f05552b",
   "metadata": {},
   "source": [
    "4. ORDER-LEVEL ANALYSIS"
   ]
  },
  {
   "cell_type": "code",
   "execution_count": 7,
   "id": "83ab814a",
   "metadata": {},
   "outputs": [
    {
     "name": "stdout",
     "output_type": "stream",
     "text": [
      "\n",
      "4️⃣ Analyzing order composition...\n",
      "\n",
      "📊 Order Statistics:\n",
      "   Total orders: 96,478\n",
      "   Avg items per order: 1.14\n",
      "   Median items per order: 1\n",
      "   Max items in order: 21\n",
      "\n",
      "📊 Items per Order Distribution:\n",
      "   1 item: 86,843 orders (90.0%)\n",
      "   2 items: 7,392 orders (7.7%)\n",
      "   3+ items: 2,243 orders (2.3%)\n",
      "   5+ items: 442 orders (0.5%)\n"
     ]
    },
    {
     "data": {
      "image/png": "[encoded data removed]",
      "text/plain": [
       "<Figure size 1200x600 with 2 Axes>"
      ]
     },
     "metadata": {},
     "output_type": "display_data"
    },
    {
     "name": "stdout",
     "output_type": "stream",
     "text": [
      "\n",
      "✅ Order composition visualization saved\n"
     ]
    }
   ],
   "source": [
    "# ============================================\n",
    "# 4. ORDER-LEVEL ANALYSIS\n",
    "# ============================================\n",
    "print(\"\\n4️⃣ Analyzing order composition...\")\n",
    "\n",
    "# Items per order\n",
    "items_per_order = baskets.groupby('order_id').size()\n",
    "\n",
    "print(f\"\\n📊 Order Statistics:\")\n",
    "print(f\"   Total orders: {len(items_per_order):,}\")\n",
    "print(f\"   Avg items per order: {items_per_order.mean():.2f}\")\n",
    "print(f\"   Median items per order: {items_per_order.median():.0f}\")\n",
    "print(f\"   Max items in order: {items_per_order.max()}\")\n",
    "\n",
    "# Distribution of items per order\n",
    "print(f\"\\n📊 Items per Order Distribution:\")\n",
    "print(f\"   1 item: {(items_per_order == 1).sum():,} orders ({(items_per_order == 1).sum()/len(items_per_order)*100:.1f}%)\")\n",
    "print(f\"   2 items: {(items_per_order == 2).sum():,} orders ({(items_per_order == 2).sum()/len(items_per_order)*100:.1f}%)\")\n",
    "print(f\"   3+ items: {(items_per_order >= 3).sum():,} orders ({(items_per_order >= 3).sum()/len(items_per_order)*100:.1f}%)\")\n",
    "print(f\"   5+ items: {(items_per_order >= 5).sum():,} orders ({(items_per_order >= 5).sum()/len(items_per_order)*100:.1f}%)\")\n",
    "\n",
    "# Visualization\n",
    "plt.figure(figsize=(12, 6))\n",
    "\n",
    "plt.subplot(1, 2, 1)\n",
    "items_per_order[items_per_order <= 10].hist(bins=10, edgecolor='black', alpha=0.7, color='#2E86AB')\n",
    "plt.xlabel('Items per Order', fontsize=12)\n",
    "plt.ylabel('Number of Orders', fontsize=12)\n",
    "plt.title('Distribution of Items per Order', fontsize=13, fontweight='bold')\n",
    "plt.grid(alpha=0.3)\n",
    "\n",
    "plt.subplot(1, 2, 2)\n",
    "order_size_summary = pd.DataFrame({\n",
    "    'Order Size': ['1 item', '2 items', '3+ items'],\n",
    "    'Count': [\n",
    "        (items_per_order == 1).sum(),\n",
    "        (items_per_order == 2).sum(),\n",
    "        (items_per_order >= 3).sum()\n",
    "    ]\n",
    "})\n",
    "plt.bar(order_size_summary['Order Size'], order_size_summary['Count'], color=['#D62828', '#F77F00', '#06A77D'])\n",
    "plt.ylabel('Number of Orders', fontsize=12)\n",
    "plt.title('Order Size Categories', fontsize=13, fontweight='bold')\n",
    "plt.grid(axis='y', alpha=0.3)\n",
    "\n",
    "# Add value labels\n",
    "for i, v in enumerate(order_size_summary['Count']):\n",
    "    plt.text(i, v + max(order_size_summary['Count'])*0.02, f'{v:,}', ha='center', fontweight='bold')\n",
    "\n",
    "plt.tight_layout()\n",
    "plt.savefig('D:/Project/DataMining/ecommerce-customer-analytics/reports/figures/order_composition_analysis.png', dpi=300, bbox_inches='tight')\n",
    "plt.show()\n",
    "\n",
    "print(f\"\\n✅ Order composition visualization saved\")"
   ]
  },
  {
   "cell_type": "markdown",
   "id": "0b39092d",
   "metadata": {},
   "source": [
    "* Mục đích: Xem trung bình mỗi đơn hàng có bao nhiêu sản phẩm → từ đó quyết định mức độ khả thi của Market Basket Analysis.\n",
    "    * Tổng đơn hàng\t- 96,478\n",
    "    * Số sản phẩm trung bình/đơn - 1.14\n",
    "    * Trung vị - 1\n",
    "    * Đơn hàng có 1 sản phẩm - 86,843 (90%)\n",
    "    * Đơn hàng có ≥2 sản phẩm - 9,635 (10%)\n",
    "    * Tối đa - 21 sản phẩm\n",
    "* Ý nghĩa:\n",
    "* → 90% đơn hàng chỉ có 1 sản phẩm.\n",
    "* → Điều này chứng tỏ khách hàng thường mua lẻ, không tạo giỏ hàng lớn.\n",
    "* → Vì vậy, phân tích “sản phẩm đi kèm” (A → B) ở mức product_id sẽ không hiệu quả (data quá sparse).\n",
    "* → Giải pháp khả thi: Phân tích ở mức danh mục (category-level) để tăng mật độ dữ liệu."
   ]
  },
  {
   "cell_type": "markdown",
   "id": "c82c8f8d",
   "metadata": {},
   "source": [
    "5. DECISION POINT"
   ]
  },
  {
   "cell_type": "code",
   "execution_count": 8,
   "id": "45c7c749",
   "metadata": {},
   "outputs": [
    {
     "name": "stdout",
     "output_type": "stream",
     "text": [
      "\n",
      "5️⃣ Market basket strategy decision...\n",
      "\n",
      "📊 Multi-item Orders:\n",
      "   Orders with 2+ items: 9,635 (10.0%)\n",
      "\n",
      "   ⚠️  Low multi-item order rate (<20%)\n",
      "   💡 Strategy: Category-level basket analysis\n",
      "      - Analyze category combinations\n",
      "      - More meaningful patterns\n",
      "      - Better for sparse data\n",
      "\n",
      "🎯 Selected approach: CATEGORY-level analysis\n",
      "\n",
      "============================================================\n",
      "✅ DATA PREPARATION COMPLETE\n",
      "============================================================\n",
      "\n",
      "📊 Ready for Market Basket Analysis:\n",
      "   Analysis level: category\n",
      "   Multi-item orders: 9,635\n",
      "   Categories: 74\n",
      "============================================================\n"
     ]
    }
   ],
   "source": [
    "# ============================================\n",
    "# 5. DECISION POINT\n",
    "# ============================================\n",
    "print(\"\\n5️⃣ Market basket strategy decision...\")\n",
    "\n",
    "multi_item_orders = (items_per_order >= 2).sum()\n",
    "multi_item_pct = multi_item_orders / len(items_per_order) * 100\n",
    "\n",
    "print(f\"\\n📊 Multi-item Orders:\")\n",
    "print(f\"   Orders with 2+ items: {multi_item_orders:,} ({multi_item_pct:.1f}%)\")\n",
    "\n",
    "if multi_item_pct < 20:\n",
    "    print(f\"\\n   ⚠️  Low multi-item order rate (<20%)\")\n",
    "    print(f\"   💡 Strategy: Category-level basket analysis\")\n",
    "    print(f\"      - Analyze category combinations\")\n",
    "    print(f\"      - More meaningful patterns\")\n",
    "    print(f\"      - Better for sparse data\")\n",
    "    ANALYSIS_LEVEL = 'category'\n",
    "else:\n",
    "    print(f\"\\n   ✅ Sufficient multi-item orders (>20%)\")\n",
    "    print(f\"   💡 Strategy: Product-level basket analysis\")\n",
    "    ANALYSIS_LEVEL = 'product'\n",
    "\n",
    "print(f\"\\n🎯 Selected approach: {ANALYSIS_LEVEL.upper()}-level analysis\")\n",
    "\n",
    "print(\"\\n\" + \"=\"*60)\n",
    "print(\"✅ DATA PREPARATION COMPLETE\")\n",
    "print(\"=\"*60)\n",
    "print(f\"\\n📊 Ready for Market Basket Analysis:\")\n",
    "print(f\"   Analysis level: {ANALYSIS_LEVEL}\")\n",
    "print(f\"   Multi-item orders: {multi_item_orders:,}\")\n",
    "print(f\"   Categories: {baskets['category'].nunique()}\")\n",
    "print(\"=\"*60)"
   ]
  },
  {
   "cell_type": "markdown",
   "id": "99fc6382",
   "metadata": {},
   "source": [
    "* Mục đích: Xác định chiến lược phân tích giỏ hàng hợp lý nhất dựa trên đặc trưng dữ liệu.\n",
    "* Kết quả:\n",
    "    * Đơn hàng có ≥2 sản phẩm: 9,635 (10%)\n",
    "    * Multi-item order rate thấp hơn 20%\n",
    "    * Chiến lược chọn: Category-level basket analysis\n",
    "* Ý nghĩa chiến lược:\n",
    "* → Dữ liệu E-commerce của bạn có giỏ hàng nhỏ, nên dùng category-level:\n",
    "    * Tăng độ tin cậy của các luật kết hợp (association rules)\n",
    "    * Giảm hiện tượng “data sparsity”\n",
    "    * Kết quả phù hợp với phân tích cross-sell theo danh mục (vd. Health & Beauty → Personal Care)"
   ]
  },
  {
   "cell_type": "markdown",
   "id": "535eac6d",
   "metadata": {},
   "source": [
    "* Insight Business:\n",
    "* 90% khách hàng chỉ mua 1 sản phẩm/lần → cần chiến lược tăng giỏ hàng (basket size).\n",
    "* 10% đơn hàng có 2+ sản phẩm → là phân khúc khách hàng có tiềm năng cross-sell cao.\n",
    "    * Đề xuất combo khuyến mãi hợp lý (VD: Home Décor + Bed & Bath Table)\n",
    "    * Thiết kế bố cục gian hàng gợi ý sản phẩm liên quan\n",
    "    * Nâng cao tỷ lệ “Frequently Bought Together”"
   ]
  },
  {
   "cell_type": "markdown",
   "id": "195d1934",
   "metadata": {},
   "source": [
    "## CELL 2: CREATE TRANSACTION MATRIX (CATEGORY-LEVEL)"
   ]
  },
  {
   "cell_type": "code",
   "execution_count": 10,
   "id": "3eb40d2d",
   "metadata": {},
   "outputs": [
    {
     "name": "stdout",
     "output_type": "stream",
     "text": [
      "============================================================\n",
      "🔨 CREATING TRANSACTION MATRIX (CATEGORY-LEVEL)\n",
      "============================================================\n",
      "\n",
      "1️⃣ Creating category-level transaction data...\n",
      "   ✅ Total baskets: 96,478\n",
      "   ✅ Multi-item baskets: 9,635\n",
      "   ✅ Filtered out single-item orders: 86,843\n",
      "\n",
      "2️⃣ Analyzing multi-item basket composition...\n",
      "\n",
      "📊 Multi-item Basket Statistics:\n",
      "   Mean categories per basket: 2.42\n",
      "   Median: 2\n",
      "   Max: 21\n",
      "\n",
      "📊 Top 10 Categories in Multi-item Baskets:\n",
      "    1. furniture_decor                - 3,223 baskets (33.5%)\n",
      "    2. bed_bath_table                 - 3,117 baskets (32.4%)\n",
      "    3. computers_accessories          - 1,894 baskets (19.7%)\n",
      "    4. housewares                     - 1,808 baskets (18.8%)\n",
      "    5. sports_leisure                 - 1,659 baskets (17.2%)\n",
      "    6. health_beauty                  - 1,489 baskets (15.5%)\n",
      "    7. garden_tools                   - 1,415 baskets (14.7%)\n",
      "    8. watches_gifts                  - 665 baskets (6.9%)\n",
      "    9. office_furniture               - 652 baskets (6.8%)\n",
      "   10. telephony                      - 620 baskets (6.4%)\n",
      "\n",
      "3️⃣ Creating binary transaction matrix...\n",
      "   ⏳ Encoding transactions...\n",
      "   ✅ Matrix created!\n",
      "   ✅ Shape: (9635, 72)\n",
      "      Transactions (rows): 9,635\n",
      "      Categories (columns): 72\n",
      "\n",
      "4️⃣ Transaction matrix analysis...\n",
      "\n",
      "📊 Matrix Statistics:\n",
      "   Total cells: 693,720\n",
      "   Filled cells: 10,433\n",
      "   Sparsity: 98.50%\n",
      "   Density: 1.50%\n",
      "\n",
      "📊 Top 10 Category Support (% of baskets):\n",
      "    1. bed_bath_table                 - 14.90%\n",
      "    2. furniture_decor                - 14.22%\n",
      "    3. computers_accessories          - 8.10%\n",
      "    4. sports_leisure                 - 7.87%\n",
      "    5. housewares                     - 7.85%\n",
      "    6. health_beauty                  - 6.96%\n",
      "    7. garden_tools                   - 6.18%\n",
      "    8. watches_gifts                  - 3.12%\n",
      "    9. telephony                      - 2.94%\n",
      "   10. auto                           - 2.81%\n",
      "\n",
      "5️⃣ Creating visualizations...\n"
     ]
    },
    {
     "ename": "MemoryError",
     "evalue": "Unable to allocate 2.77 GiB for an array with shape (9635, 9635, 4) and data type float64",
     "output_type": "error",
     "traceback": [
      "\u001b[1;31m---------------------------------------------------------------------------\u001b[0m",
      "\u001b[1;31mMemoryError\u001b[0m                               Traceback (most recent call last)",
      "Cell \u001b[1;32mIn[10], line 124\u001b[0m\n\u001b[0;32m    121\u001b[0m top_10_matrix \u001b[38;5;241m=\u001b[39m basket_matrix[top_10_cats]\n\u001b[0;32m    122\u001b[0m correlation \u001b[38;5;241m=\u001b[39m top_10_matrix\u001b[38;5;241m.\u001b[39mT\u001b[38;5;241m.\u001b[39mcorr()\n\u001b[1;32m--> 124\u001b[0m \u001b[43msns\u001b[49m\u001b[38;5;241;43m.\u001b[39;49m\u001b[43mheatmap\u001b[49m\u001b[43m(\u001b[49m\u001b[43mcorrelation\u001b[49m\u001b[43m,\u001b[49m\u001b[43m \u001b[49m\u001b[43mannot\u001b[49m\u001b[38;5;241;43m=\u001b[39;49m\u001b[38;5;28;43;01mFalse\u001b[39;49;00m\u001b[43m,\u001b[49m\u001b[43m \u001b[49m\u001b[43mcmap\u001b[49m\u001b[38;5;241;43m=\u001b[39;49m\u001b[38;5;124;43m'\u001b[39;49m\u001b[38;5;124;43mYlOrRd\u001b[39;49m\u001b[38;5;124;43m'\u001b[39;49m\u001b[43m,\u001b[49m\u001b[43m \u001b[49m\u001b[43max\u001b[49m\u001b[38;5;241;43m=\u001b[39;49m\u001b[43max3\u001b[49m\u001b[43m,\u001b[49m\u001b[43m \u001b[49m\n\u001b[0;32m    125\u001b[0m \u001b[43m            \u001b[49m\u001b[43mxticklabels\u001b[49m\u001b[38;5;241;43m=\u001b[39;49m\u001b[38;5;28;43;01mFalse\u001b[39;49;00m\u001b[43m,\u001b[49m\u001b[43m \u001b[49m\u001b[43myticklabels\u001b[49m\u001b[38;5;241;43m=\u001b[39;49m\u001b[38;5;28;43;01mFalse\u001b[39;49;00m\u001b[43m,\u001b[49m\u001b[43m \u001b[49m\u001b[43mcbar_kws\u001b[49m\u001b[38;5;241;43m=\u001b[39;49m\u001b[43m{\u001b[49m\u001b[38;5;124;43m'\u001b[39;49m\u001b[38;5;124;43mlabel\u001b[39;49m\u001b[38;5;124;43m'\u001b[39;49m\u001b[43m:\u001b[49m\u001b[43m \u001b[49m\u001b[38;5;124;43m'\u001b[39;49m\u001b[38;5;124;43mCorrelation\u001b[39;49m\u001b[38;5;124;43m'\u001b[39;49m\u001b[43m}\u001b[49m\u001b[43m)\u001b[49m\n\u001b[0;32m    126\u001b[0m ax3\u001b[38;5;241m.\u001b[39mset_title(\u001b[38;5;124m'\u001b[39m\u001b[38;5;124mCategory Co-occurrence Pattern (Top 10)\u001b[39m\u001b[38;5;124m'\u001b[39m, fontsize\u001b[38;5;241m=\u001b[39m\u001b[38;5;241m12\u001b[39m, fontweight\u001b[38;5;241m=\u001b[39m\u001b[38;5;124m'\u001b[39m\u001b[38;5;124mbold\u001b[39m\u001b[38;5;124m'\u001b[39m)\n\u001b[0;32m    128\u001b[0m \u001b[38;5;66;03m# Plot 4: Matrix sparsity\u001b[39;00m\n",
      "File \u001b[1;32md:\\Project\\DataMining\\.venv\\lib\\site-packages\\seaborn\\matrix.py:459\u001b[0m, in \u001b[0;36mheatmap\u001b[1;34m(data, vmin, vmax, cmap, center, robust, annot, fmt, annot_kws, linewidths, linecolor, cbar, cbar_kws, cbar_ax, square, xticklabels, yticklabels, mask, ax, **kwargs)\u001b[0m\n\u001b[0;32m    457\u001b[0m \u001b[38;5;28;01mif\u001b[39;00m square:\n\u001b[0;32m    458\u001b[0m     ax\u001b[38;5;241m.\u001b[39mset_aspect(\u001b[38;5;124m\"\u001b[39m\u001b[38;5;124mequal\u001b[39m\u001b[38;5;124m\"\u001b[39m)\n\u001b[1;32m--> 459\u001b[0m \u001b[43mplotter\u001b[49m\u001b[38;5;241;43m.\u001b[39;49m\u001b[43mplot\u001b[49m\u001b[43m(\u001b[49m\u001b[43max\u001b[49m\u001b[43m,\u001b[49m\u001b[43m \u001b[49m\u001b[43mcbar_ax\u001b[49m\u001b[43m,\u001b[49m\u001b[43m \u001b[49m\u001b[43mkwargs\u001b[49m\u001b[43m)\u001b[49m\n\u001b[0;32m    460\u001b[0m \u001b[38;5;28;01mreturn\u001b[39;00m ax\n",
      "File \u001b[1;32md:\\Project\\DataMining\\.venv\\lib\\site-packages\\seaborn\\matrix.py:340\u001b[0m, in \u001b[0;36m_HeatMapper.plot\u001b[1;34m(self, ax, cax, kws)\u001b[0m\n\u001b[0;32m    337\u001b[0m plt\u001b[38;5;241m.\u001b[39msetp(ytl, va\u001b[38;5;241m=\u001b[39m\u001b[38;5;124m\"\u001b[39m\u001b[38;5;124mcenter\u001b[39m\u001b[38;5;124m\"\u001b[39m)  \u001b[38;5;66;03m# GH2484\u001b[39;00m\n\u001b[0;32m    339\u001b[0m \u001b[38;5;66;03m# Possibly rotate them if they overlap\u001b[39;00m\n\u001b[1;32m--> 340\u001b[0m \u001b[43m_draw_figure\u001b[49m\u001b[43m(\u001b[49m\u001b[43max\u001b[49m\u001b[38;5;241;43m.\u001b[39;49m\u001b[43mfigure\u001b[49m\u001b[43m)\u001b[49m\n\u001b[0;32m    342\u001b[0m \u001b[38;5;28;01mif\u001b[39;00m axis_ticklabels_overlap(xtl):\n\u001b[0;32m    343\u001b[0m     plt\u001b[38;5;241m.\u001b[39msetp(xtl, rotation\u001b[38;5;241m=\u001b[39m\u001b[38;5;124m\"\u001b[39m\u001b[38;5;124mvertical\u001b[39m\u001b[38;5;124m\"\u001b[39m)\n",
      "File \u001b[1;32md:\\Project\\DataMining\\.venv\\lib\\site-packages\\seaborn\\utils.py:61\u001b[0m, in \u001b[0;36m_draw_figure\u001b[1;34m(fig)\u001b[0m\n\u001b[0;32m     59\u001b[0m \u001b[38;5;250m\u001b[39m\u001b[38;5;124;03m\"\"\"Force draw of a matplotlib figure, accounting for back-compat.\"\"\"\u001b[39;00m\n\u001b[0;32m     60\u001b[0m \u001b[38;5;66;03m# See https://github.com/matplotlib/matplotlib/issues/19197 for context\u001b[39;00m\n\u001b[1;32m---> 61\u001b[0m \u001b[43mfig\u001b[49m\u001b[38;5;241;43m.\u001b[39;49m\u001b[43mcanvas\u001b[49m\u001b[38;5;241;43m.\u001b[39;49m\u001b[43mdraw\u001b[49m\u001b[43m(\u001b[49m\u001b[43m)\u001b[49m\n\u001b[0;32m     62\u001b[0m \u001b[38;5;28;01mif\u001b[39;00m fig\u001b[38;5;241m.\u001b[39mstale:\n\u001b[0;32m     63\u001b[0m     \u001b[38;5;28;01mtry\u001b[39;00m:\n",
      "File \u001b[1;32md:\\Project\\DataMining\\.venv\\lib\\site-packages\\matplotlib\\backends\\backend_agg.py:387\u001b[0m, in \u001b[0;36mFigureCanvasAgg.draw\u001b[1;34m(self)\u001b[0m\n\u001b[0;32m    384\u001b[0m \u001b[38;5;66;03m# Acquire a lock on the shared font cache.\u001b[39;00m\n\u001b[0;32m    385\u001b[0m \u001b[38;5;28;01mwith\u001b[39;00m (\u001b[38;5;28mself\u001b[39m\u001b[38;5;241m.\u001b[39mtoolbar\u001b[38;5;241m.\u001b[39m_wait_cursor_for_draw_cm() \u001b[38;5;28;01mif\u001b[39;00m \u001b[38;5;28mself\u001b[39m\u001b[38;5;241m.\u001b[39mtoolbar\n\u001b[0;32m    386\u001b[0m       \u001b[38;5;28;01melse\u001b[39;00m nullcontext()):\n\u001b[1;32m--> 387\u001b[0m     \u001b[38;5;28;43mself\u001b[39;49m\u001b[38;5;241;43m.\u001b[39;49m\u001b[43mfigure\u001b[49m\u001b[38;5;241;43m.\u001b[39;49m\u001b[43mdraw\u001b[49m\u001b[43m(\u001b[49m\u001b[38;5;28;43mself\u001b[39;49m\u001b[38;5;241;43m.\u001b[39;49m\u001b[43mrenderer\u001b[49m\u001b[43m)\u001b[49m\n\u001b[0;32m    388\u001b[0m     \u001b[38;5;66;03m# A GUI class may be need to update a window using this draw, so\u001b[39;00m\n\u001b[0;32m    389\u001b[0m     \u001b[38;5;66;03m# don't forget to call the superclass.\u001b[39;00m\n\u001b[0;32m    390\u001b[0m     \u001b[38;5;28msuper\u001b[39m()\u001b[38;5;241m.\u001b[39mdraw()\n",
      "File \u001b[1;32md:\\Project\\DataMining\\.venv\\lib\\site-packages\\matplotlib\\artist.py:95\u001b[0m, in \u001b[0;36m_finalize_rasterization.<locals>.draw_wrapper\u001b[1;34m(artist, renderer, *args, **kwargs)\u001b[0m\n\u001b[0;32m     93\u001b[0m \u001b[38;5;129m@wraps\u001b[39m(draw)\n\u001b[0;32m     94\u001b[0m \u001b[38;5;28;01mdef\u001b[39;00m\u001b[38;5;250m \u001b[39m\u001b[38;5;21mdraw_wrapper\u001b[39m(artist, renderer, \u001b[38;5;241m*\u001b[39margs, \u001b[38;5;241m*\u001b[39m\u001b[38;5;241m*\u001b[39mkwargs):\n\u001b[1;32m---> 95\u001b[0m     result \u001b[38;5;241m=\u001b[39m draw(artist, renderer, \u001b[38;5;241m*\u001b[39margs, \u001b[38;5;241m*\u001b[39m\u001b[38;5;241m*\u001b[39mkwargs)\n\u001b[0;32m     96\u001b[0m     \u001b[38;5;28;01mif\u001b[39;00m renderer\u001b[38;5;241m.\u001b[39m_rasterizing:\n\u001b[0;32m     97\u001b[0m         renderer\u001b[38;5;241m.\u001b[39mstop_rasterizing()\n",
      "File \u001b[1;32md:\\Project\\DataMining\\.venv\\lib\\site-packages\\matplotlib\\artist.py:72\u001b[0m, in \u001b[0;36mallow_rasterization.<locals>.draw_wrapper\u001b[1;34m(artist, renderer)\u001b[0m\n\u001b[0;32m     69\u001b[0m     \u001b[38;5;28;01mif\u001b[39;00m artist\u001b[38;5;241m.\u001b[39mget_agg_filter() \u001b[38;5;129;01mis\u001b[39;00m \u001b[38;5;129;01mnot\u001b[39;00m \u001b[38;5;28;01mNone\u001b[39;00m:\n\u001b[0;32m     70\u001b[0m         renderer\u001b[38;5;241m.\u001b[39mstart_filter()\n\u001b[1;32m---> 72\u001b[0m     \u001b[38;5;28;01mreturn\u001b[39;00m \u001b[43mdraw\u001b[49m\u001b[43m(\u001b[49m\u001b[43martist\u001b[49m\u001b[43m,\u001b[49m\u001b[43m \u001b[49m\u001b[43mrenderer\u001b[49m\u001b[43m)\u001b[49m\n\u001b[0;32m     73\u001b[0m \u001b[38;5;28;01mfinally\u001b[39;00m:\n\u001b[0;32m     74\u001b[0m     \u001b[38;5;28;01mif\u001b[39;00m artist\u001b[38;5;241m.\u001b[39mget_agg_filter() \u001b[38;5;129;01mis\u001b[39;00m \u001b[38;5;129;01mnot\u001b[39;00m \u001b[38;5;28;01mNone\u001b[39;00m:\n",
      "File \u001b[1;32md:\\Project\\DataMining\\.venv\\lib\\site-packages\\matplotlib\\figure.py:3162\u001b[0m, in \u001b[0;36mFigure.draw\u001b[1;34m(self, renderer)\u001b[0m\n\u001b[0;32m   3159\u001b[0m             \u001b[38;5;66;03m# ValueError can occur when resizing a window.\u001b[39;00m\n\u001b[0;32m   3161\u001b[0m     \u001b[38;5;28mself\u001b[39m\u001b[38;5;241m.\u001b[39mpatch\u001b[38;5;241m.\u001b[39mdraw(renderer)\n\u001b[1;32m-> 3162\u001b[0m     \u001b[43mmimage\u001b[49m\u001b[38;5;241;43m.\u001b[39;49m\u001b[43m_draw_list_compositing_images\u001b[49m\u001b[43m(\u001b[49m\n\u001b[0;32m   3163\u001b[0m \u001b[43m        \u001b[49m\u001b[43mrenderer\u001b[49m\u001b[43m,\u001b[49m\u001b[43m \u001b[49m\u001b[38;5;28;43mself\u001b[39;49m\u001b[43m,\u001b[49m\u001b[43m \u001b[49m\u001b[43martists\u001b[49m\u001b[43m,\u001b[49m\u001b[43m \u001b[49m\u001b[38;5;28;43mself\u001b[39;49m\u001b[38;5;241;43m.\u001b[39;49m\u001b[43msuppressComposite\u001b[49m\u001b[43m)\u001b[49m\n\u001b[0;32m   3165\u001b[0m     renderer\u001b[38;5;241m.\u001b[39mclose_group(\u001b[38;5;124m'\u001b[39m\u001b[38;5;124mfigure\u001b[39m\u001b[38;5;124m'\u001b[39m)\n\u001b[0;32m   3166\u001b[0m \u001b[38;5;28;01mfinally\u001b[39;00m:\n",
      "File \u001b[1;32md:\\Project\\DataMining\\.venv\\lib\\site-packages\\matplotlib\\image.py:132\u001b[0m, in \u001b[0;36m_draw_list_compositing_images\u001b[1;34m(renderer, parent, artists, suppress_composite)\u001b[0m\n\u001b[0;32m    130\u001b[0m \u001b[38;5;28;01mif\u001b[39;00m not_composite \u001b[38;5;129;01mor\u001b[39;00m \u001b[38;5;129;01mnot\u001b[39;00m has_images:\n\u001b[0;32m    131\u001b[0m     \u001b[38;5;28;01mfor\u001b[39;00m a \u001b[38;5;129;01min\u001b[39;00m artists:\n\u001b[1;32m--> 132\u001b[0m         \u001b[43ma\u001b[49m\u001b[38;5;241;43m.\u001b[39;49m\u001b[43mdraw\u001b[49m\u001b[43m(\u001b[49m\u001b[43mrenderer\u001b[49m\u001b[43m)\u001b[49m\n\u001b[0;32m    133\u001b[0m \u001b[38;5;28;01melse\u001b[39;00m:\n\u001b[0;32m    134\u001b[0m     \u001b[38;5;66;03m# Composite any adjacent images together\u001b[39;00m\n\u001b[0;32m    135\u001b[0m     image_group \u001b[38;5;241m=\u001b[39m []\n",
      "File \u001b[1;32md:\\Project\\DataMining\\.venv\\lib\\site-packages\\matplotlib\\artist.py:72\u001b[0m, in \u001b[0;36mallow_rasterization.<locals>.draw_wrapper\u001b[1;34m(artist, renderer)\u001b[0m\n\u001b[0;32m     69\u001b[0m     \u001b[38;5;28;01mif\u001b[39;00m artist\u001b[38;5;241m.\u001b[39mget_agg_filter() \u001b[38;5;129;01mis\u001b[39;00m \u001b[38;5;129;01mnot\u001b[39;00m \u001b[38;5;28;01mNone\u001b[39;00m:\n\u001b[0;32m     70\u001b[0m         renderer\u001b[38;5;241m.\u001b[39mstart_filter()\n\u001b[1;32m---> 72\u001b[0m     \u001b[38;5;28;01mreturn\u001b[39;00m \u001b[43mdraw\u001b[49m\u001b[43m(\u001b[49m\u001b[43martist\u001b[49m\u001b[43m,\u001b[49m\u001b[43m \u001b[49m\u001b[43mrenderer\u001b[49m\u001b[43m)\u001b[49m\n\u001b[0;32m     73\u001b[0m \u001b[38;5;28;01mfinally\u001b[39;00m:\n\u001b[0;32m     74\u001b[0m     \u001b[38;5;28;01mif\u001b[39;00m artist\u001b[38;5;241m.\u001b[39mget_agg_filter() \u001b[38;5;129;01mis\u001b[39;00m \u001b[38;5;129;01mnot\u001b[39;00m \u001b[38;5;28;01mNone\u001b[39;00m:\n",
      "File \u001b[1;32md:\\Project\\DataMining\\.venv\\lib\\site-packages\\matplotlib\\axes\\_base.py:3137\u001b[0m, in \u001b[0;36m_AxesBase.draw\u001b[1;34m(self, renderer)\u001b[0m\n\u001b[0;32m   3134\u001b[0m \u001b[38;5;28;01mif\u001b[39;00m artists_rasterized:\n\u001b[0;32m   3135\u001b[0m     _draw_rasterized(\u001b[38;5;28mself\u001b[39m\u001b[38;5;241m.\u001b[39mfigure, artists_rasterized, renderer)\n\u001b[1;32m-> 3137\u001b[0m \u001b[43mmimage\u001b[49m\u001b[38;5;241;43m.\u001b[39;49m\u001b[43m_draw_list_compositing_images\u001b[49m\u001b[43m(\u001b[49m\n\u001b[0;32m   3138\u001b[0m \u001b[43m    \u001b[49m\u001b[43mrenderer\u001b[49m\u001b[43m,\u001b[49m\u001b[43m \u001b[49m\u001b[38;5;28;43mself\u001b[39;49m\u001b[43m,\u001b[49m\u001b[43m \u001b[49m\u001b[43martists\u001b[49m\u001b[43m,\u001b[49m\u001b[43m \u001b[49m\u001b[38;5;28;43mself\u001b[39;49m\u001b[38;5;241;43m.\u001b[39;49m\u001b[43mfigure\u001b[49m\u001b[38;5;241;43m.\u001b[39;49m\u001b[43msuppressComposite\u001b[49m\u001b[43m)\u001b[49m\n\u001b[0;32m   3140\u001b[0m renderer\u001b[38;5;241m.\u001b[39mclose_group(\u001b[38;5;124m'\u001b[39m\u001b[38;5;124maxes\u001b[39m\u001b[38;5;124m'\u001b[39m)\n\u001b[0;32m   3141\u001b[0m \u001b[38;5;28mself\u001b[39m\u001b[38;5;241m.\u001b[39mstale \u001b[38;5;241m=\u001b[39m \u001b[38;5;28;01mFalse\u001b[39;00m\n",
      "File \u001b[1;32md:\\Project\\DataMining\\.venv\\lib\\site-packages\\matplotlib\\image.py:132\u001b[0m, in \u001b[0;36m_draw_list_compositing_images\u001b[1;34m(renderer, parent, artists, suppress_composite)\u001b[0m\n\u001b[0;32m    130\u001b[0m \u001b[38;5;28;01mif\u001b[39;00m not_composite \u001b[38;5;129;01mor\u001b[39;00m \u001b[38;5;129;01mnot\u001b[39;00m has_images:\n\u001b[0;32m    131\u001b[0m     \u001b[38;5;28;01mfor\u001b[39;00m a \u001b[38;5;129;01min\u001b[39;00m artists:\n\u001b[1;32m--> 132\u001b[0m         \u001b[43ma\u001b[49m\u001b[38;5;241;43m.\u001b[39;49m\u001b[43mdraw\u001b[49m\u001b[43m(\u001b[49m\u001b[43mrenderer\u001b[49m\u001b[43m)\u001b[49m\n\u001b[0;32m    133\u001b[0m \u001b[38;5;28;01melse\u001b[39;00m:\n\u001b[0;32m    134\u001b[0m     \u001b[38;5;66;03m# Composite any adjacent images together\u001b[39;00m\n\u001b[0;32m    135\u001b[0m     image_group \u001b[38;5;241m=\u001b[39m []\n",
      "File \u001b[1;32md:\\Project\\DataMining\\.venv\\lib\\site-packages\\matplotlib\\artist.py:72\u001b[0m, in \u001b[0;36mallow_rasterization.<locals>.draw_wrapper\u001b[1;34m(artist, renderer)\u001b[0m\n\u001b[0;32m     69\u001b[0m     \u001b[38;5;28;01mif\u001b[39;00m artist\u001b[38;5;241m.\u001b[39mget_agg_filter() \u001b[38;5;129;01mis\u001b[39;00m \u001b[38;5;129;01mnot\u001b[39;00m \u001b[38;5;28;01mNone\u001b[39;00m:\n\u001b[0;32m     70\u001b[0m         renderer\u001b[38;5;241m.\u001b[39mstart_filter()\n\u001b[1;32m---> 72\u001b[0m     \u001b[38;5;28;01mreturn\u001b[39;00m \u001b[43mdraw\u001b[49m\u001b[43m(\u001b[49m\u001b[43martist\u001b[49m\u001b[43m,\u001b[49m\u001b[43m \u001b[49m\u001b[43mrenderer\u001b[49m\u001b[43m)\u001b[49m\n\u001b[0;32m     73\u001b[0m \u001b[38;5;28;01mfinally\u001b[39;00m:\n\u001b[0;32m     74\u001b[0m     \u001b[38;5;28;01mif\u001b[39;00m artist\u001b[38;5;241m.\u001b[39mget_agg_filter() \u001b[38;5;129;01mis\u001b[39;00m \u001b[38;5;129;01mnot\u001b[39;00m \u001b[38;5;28;01mNone\u001b[39;00m:\n",
      "File \u001b[1;32md:\\Project\\DataMining\\.venv\\lib\\site-packages\\matplotlib\\collections.py:2179\u001b[0m, in \u001b[0;36mQuadMesh.draw\u001b[1;34m(self, renderer)\u001b[0m\n\u001b[0;32m   2176\u001b[0m     ys \u001b[38;5;241m=\u001b[39m \u001b[38;5;28mself\u001b[39m\u001b[38;5;241m.\u001b[39mconvert_yunits(offsets[:, \u001b[38;5;241m1\u001b[39m])\n\u001b[0;32m   2177\u001b[0m     offsets \u001b[38;5;241m=\u001b[39m np\u001b[38;5;241m.\u001b[39mcolumn_stack([xs, ys])\n\u001b[1;32m-> 2179\u001b[0m \u001b[38;5;28;43mself\u001b[39;49m\u001b[38;5;241;43m.\u001b[39;49m\u001b[43mupdate_scalarmappable\u001b[49m\u001b[43m(\u001b[49m\u001b[43m)\u001b[49m\n\u001b[0;32m   2181\u001b[0m \u001b[38;5;28;01mif\u001b[39;00m \u001b[38;5;129;01mnot\u001b[39;00m transform\u001b[38;5;241m.\u001b[39mis_affine:\n\u001b[0;32m   2182\u001b[0m     coordinates \u001b[38;5;241m=\u001b[39m \u001b[38;5;28mself\u001b[39m\u001b[38;5;241m.\u001b[39m_coordinates\u001b[38;5;241m.\u001b[39mreshape((\u001b[38;5;241m-\u001b[39m\u001b[38;5;241m1\u001b[39m, \u001b[38;5;241m2\u001b[39m))\n",
      "File \u001b[1;32md:\\Project\\DataMining\\.venv\\lib\\site-packages\\matplotlib\\collections.py:920\u001b[0m, in \u001b[0;36mCollection.update_scalarmappable\u001b[1;34m(self)\u001b[0m\n\u001b[0;32m    918\u001b[0m         \u001b[38;5;66;03m# pcolormesh, scatter, maybe others flatten their _A\u001b[39;00m\n\u001b[0;32m    919\u001b[0m         \u001b[38;5;28mself\u001b[39m\u001b[38;5;241m.\u001b[39m_alpha \u001b[38;5;241m=\u001b[39m \u001b[38;5;28mself\u001b[39m\u001b[38;5;241m.\u001b[39m_alpha\u001b[38;5;241m.\u001b[39mreshape(\u001b[38;5;28mself\u001b[39m\u001b[38;5;241m.\u001b[39m_A\u001b[38;5;241m.\u001b[39mshape)\n\u001b[1;32m--> 920\u001b[0m     \u001b[38;5;28mself\u001b[39m\u001b[38;5;241m.\u001b[39m_mapped_colors \u001b[38;5;241m=\u001b[39m \u001b[38;5;28;43mself\u001b[39;49m\u001b[38;5;241;43m.\u001b[39;49m\u001b[43mto_rgba\u001b[49m\u001b[43m(\u001b[49m\u001b[38;5;28;43mself\u001b[39;49m\u001b[38;5;241;43m.\u001b[39;49m\u001b[43m_A\u001b[49m\u001b[43m,\u001b[49m\u001b[43m \u001b[49m\u001b[38;5;28;43mself\u001b[39;49m\u001b[38;5;241;43m.\u001b[39;49m\u001b[43m_alpha\u001b[49m\u001b[43m)\u001b[49m\n\u001b[0;32m    922\u001b[0m \u001b[38;5;28;01mif\u001b[39;00m \u001b[38;5;28mself\u001b[39m\u001b[38;5;241m.\u001b[39m_face_is_mapped:\n\u001b[0;32m    923\u001b[0m     \u001b[38;5;28mself\u001b[39m\u001b[38;5;241m.\u001b[39m_facecolors \u001b[38;5;241m=\u001b[39m \u001b[38;5;28mself\u001b[39m\u001b[38;5;241m.\u001b[39m_mapped_colors\n",
      "File \u001b[1;32md:\\Project\\DataMining\\.venv\\lib\\site-packages\\matplotlib\\cm.py:431\u001b[0m, in \u001b[0;36mScalarMappable.to_rgba\u001b[1;34m(self, x, alpha, bytes, norm)\u001b[0m\n\u001b[0;32m    429\u001b[0m \u001b[38;5;28;01mif\u001b[39;00m norm:\n\u001b[0;32m    430\u001b[0m     x \u001b[38;5;241m=\u001b[39m \u001b[38;5;28mself\u001b[39m\u001b[38;5;241m.\u001b[39mnorm(x)\n\u001b[1;32m--> 431\u001b[0m rgba \u001b[38;5;241m=\u001b[39m \u001b[38;5;28;43mself\u001b[39;49m\u001b[38;5;241;43m.\u001b[39;49m\u001b[43mcmap\u001b[49m\u001b[43m(\u001b[49m\u001b[43mx\u001b[49m\u001b[43m,\u001b[49m\u001b[43m \u001b[49m\u001b[43malpha\u001b[49m\u001b[38;5;241;43m=\u001b[39;49m\u001b[43malpha\u001b[49m\u001b[43m,\u001b[49m\u001b[43m \u001b[49m\u001b[38;5;28;43mbytes\u001b[39;49m\u001b[38;5;241;43m=\u001b[39;49m\u001b[38;5;28;43mbytes\u001b[39;49m\u001b[43m)\u001b[49m\n\u001b[0;32m    432\u001b[0m \u001b[38;5;28;01mreturn\u001b[39;00m rgba\n",
      "File \u001b[1;32md:\\Project\\DataMining\\.venv\\lib\\site-packages\\matplotlib\\colors.py:764\u001b[0m, in \u001b[0;36mColormap.__call__\u001b[1;34m(self, X, alpha, bytes)\u001b[0m\n\u001b[0;32m    761\u001b[0m \u001b[38;5;28;01mif\u001b[39;00m \u001b[38;5;28mbytes\u001b[39m:\n\u001b[0;32m    762\u001b[0m     lut \u001b[38;5;241m=\u001b[39m (lut \u001b[38;5;241m*\u001b[39m \u001b[38;5;241m255\u001b[39m)\u001b[38;5;241m.\u001b[39mastype(np\u001b[38;5;241m.\u001b[39muint8)\n\u001b[1;32m--> 764\u001b[0m rgba \u001b[38;5;241m=\u001b[39m \u001b[43mlut\u001b[49m\u001b[38;5;241;43m.\u001b[39;49m\u001b[43mtake\u001b[49m\u001b[43m(\u001b[49m\u001b[43mxa\u001b[49m\u001b[43m,\u001b[49m\u001b[43m \u001b[49m\u001b[43maxis\u001b[49m\u001b[38;5;241;43m=\u001b[39;49m\u001b[38;5;241;43m0\u001b[39;49m\u001b[43m,\u001b[49m\u001b[43m \u001b[49m\u001b[43mmode\u001b[49m\u001b[38;5;241;43m=\u001b[39;49m\u001b[38;5;124;43m'\u001b[39;49m\u001b[38;5;124;43mclip\u001b[39;49m\u001b[38;5;124;43m'\u001b[39;49m\u001b[43m)\u001b[49m\n\u001b[0;32m    766\u001b[0m \u001b[38;5;28;01mif\u001b[39;00m alpha \u001b[38;5;129;01mis\u001b[39;00m \u001b[38;5;129;01mnot\u001b[39;00m \u001b[38;5;28;01mNone\u001b[39;00m:\n\u001b[0;32m    767\u001b[0m     alpha \u001b[38;5;241m=\u001b[39m np\u001b[38;5;241m.\u001b[39mclip(alpha, \u001b[38;5;241m0\u001b[39m, \u001b[38;5;241m1\u001b[39m)\n",
      "\u001b[1;31mMemoryError\u001b[0m: Unable to allocate 2.77 GiB for an array with shape (9635, 9635, 4) and data type float64"
     ]
    },
    {
     "ename": "MemoryError",
     "evalue": "Unable to allocate 2.77 GiB for an array with shape (9635, 9635, 4) and data type float64",
     "output_type": "error",
     "traceback": [
      "\u001b[1;31m---------------------------------------------------------------------------\u001b[0m",
      "\u001b[1;31mMemoryError\u001b[0m                               Traceback (most recent call last)",
      "File \u001b[1;32md:\\Project\\DataMining\\.venv\\lib\\site-packages\\IPython\\core\\formatters.py:340\u001b[0m, in \u001b[0;36mBaseFormatter.__call__\u001b[1;34m(self, obj)\u001b[0m\n\u001b[0;32m    338\u001b[0m     \u001b[38;5;28;01mpass\u001b[39;00m\n\u001b[0;32m    339\u001b[0m \u001b[38;5;28;01melse\u001b[39;00m:\n\u001b[1;32m--> 340\u001b[0m     \u001b[38;5;28;01mreturn\u001b[39;00m \u001b[43mprinter\u001b[49m\u001b[43m(\u001b[49m\u001b[43mobj\u001b[49m\u001b[43m)\u001b[49m\n\u001b[0;32m    341\u001b[0m \u001b[38;5;66;03m# Finally look for special method names\u001b[39;00m\n\u001b[0;32m    342\u001b[0m method \u001b[38;5;241m=\u001b[39m get_real_method(obj, \u001b[38;5;28mself\u001b[39m\u001b[38;5;241m.\u001b[39mprint_method)\n",
      "File \u001b[1;32md:\\Project\\DataMining\\.venv\\lib\\site-packages\\IPython\\core\\pylabtools.py:152\u001b[0m, in \u001b[0;36mprint_figure\u001b[1;34m(fig, fmt, bbox_inches, base64, **kwargs)\u001b[0m\n\u001b[0;32m    149\u001b[0m     \u001b[38;5;28;01mfrom\u001b[39;00m\u001b[38;5;250m \u001b[39m\u001b[38;5;21;01mmatplotlib\u001b[39;00m\u001b[38;5;21;01m.\u001b[39;00m\u001b[38;5;21;01mbackend_bases\u001b[39;00m\u001b[38;5;250m \u001b[39m\u001b[38;5;28;01mimport\u001b[39;00m FigureCanvasBase\n\u001b[0;32m    150\u001b[0m     FigureCanvasBase(fig)\n\u001b[1;32m--> 152\u001b[0m fig\u001b[38;5;241m.\u001b[39mcanvas\u001b[38;5;241m.\u001b[39mprint_figure(bytes_io, \u001b[38;5;241m*\u001b[39m\u001b[38;5;241m*\u001b[39mkw)\n\u001b[0;32m    153\u001b[0m data \u001b[38;5;241m=\u001b[39m bytes_io\u001b[38;5;241m.\u001b[39mgetvalue()\n\u001b[0;32m    154\u001b[0m \u001b[38;5;28;01mif\u001b[39;00m fmt \u001b[38;5;241m==\u001b[39m \u001b[38;5;124m'\u001b[39m\u001b[38;5;124msvg\u001b[39m\u001b[38;5;124m'\u001b[39m:\n",
      "File \u001b[1;32md:\\Project\\DataMining\\.venv\\lib\\site-packages\\matplotlib\\backend_bases.py:2175\u001b[0m, in \u001b[0;36mFigureCanvasBase.print_figure\u001b[1;34m(self, filename, dpi, facecolor, edgecolor, orientation, format, bbox_inches, pad_inches, bbox_extra_artists, backend, **kwargs)\u001b[0m\n\u001b[0;32m   2172\u001b[0m     \u001b[38;5;66;03m# we do this instead of `self.figure.draw_without_rendering`\u001b[39;00m\n\u001b[0;32m   2173\u001b[0m     \u001b[38;5;66;03m# so that we can inject the orientation\u001b[39;00m\n\u001b[0;32m   2174\u001b[0m     \u001b[38;5;28;01mwith\u001b[39;00m \u001b[38;5;28mgetattr\u001b[39m(renderer, \u001b[38;5;124m\"\u001b[39m\u001b[38;5;124m_draw_disabled\u001b[39m\u001b[38;5;124m\"\u001b[39m, nullcontext)():\n\u001b[1;32m-> 2175\u001b[0m         \u001b[38;5;28;43mself\u001b[39;49m\u001b[38;5;241;43m.\u001b[39;49m\u001b[43mfigure\u001b[49m\u001b[38;5;241;43m.\u001b[39;49m\u001b[43mdraw\u001b[49m\u001b[43m(\u001b[49m\u001b[43mrenderer\u001b[49m\u001b[43m)\u001b[49m\n\u001b[0;32m   2176\u001b[0m \u001b[38;5;28;01mif\u001b[39;00m bbox_inches:\n\u001b[0;32m   2177\u001b[0m     \u001b[38;5;28;01mif\u001b[39;00m bbox_inches \u001b[38;5;241m==\u001b[39m \u001b[38;5;124m\"\u001b[39m\u001b[38;5;124mtight\u001b[39m\u001b[38;5;124m\"\u001b[39m:\n",
      "File \u001b[1;32md:\\Project\\DataMining\\.venv\\lib\\site-packages\\matplotlib\\artist.py:95\u001b[0m, in \u001b[0;36m_finalize_rasterization.<locals>.draw_wrapper\u001b[1;34m(artist, renderer, *args, **kwargs)\u001b[0m\n\u001b[0;32m     93\u001b[0m \u001b[38;5;129m@wraps\u001b[39m(draw)\n\u001b[0;32m     94\u001b[0m \u001b[38;5;28;01mdef\u001b[39;00m\u001b[38;5;250m \u001b[39m\u001b[38;5;21mdraw_wrapper\u001b[39m(artist, renderer, \u001b[38;5;241m*\u001b[39margs, \u001b[38;5;241m*\u001b[39m\u001b[38;5;241m*\u001b[39mkwargs):\n\u001b[1;32m---> 95\u001b[0m     result \u001b[38;5;241m=\u001b[39m draw(artist, renderer, \u001b[38;5;241m*\u001b[39margs, \u001b[38;5;241m*\u001b[39m\u001b[38;5;241m*\u001b[39mkwargs)\n\u001b[0;32m     96\u001b[0m     \u001b[38;5;28;01mif\u001b[39;00m renderer\u001b[38;5;241m.\u001b[39m_rasterizing:\n\u001b[0;32m     97\u001b[0m         renderer\u001b[38;5;241m.\u001b[39mstop_rasterizing()\n",
      "File \u001b[1;32md:\\Project\\DataMining\\.venv\\lib\\site-packages\\matplotlib\\artist.py:72\u001b[0m, in \u001b[0;36mallow_rasterization.<locals>.draw_wrapper\u001b[1;34m(artist, renderer)\u001b[0m\n\u001b[0;32m     69\u001b[0m     \u001b[38;5;28;01mif\u001b[39;00m artist\u001b[38;5;241m.\u001b[39mget_agg_filter() \u001b[38;5;129;01mis\u001b[39;00m \u001b[38;5;129;01mnot\u001b[39;00m \u001b[38;5;28;01mNone\u001b[39;00m:\n\u001b[0;32m     70\u001b[0m         renderer\u001b[38;5;241m.\u001b[39mstart_filter()\n\u001b[1;32m---> 72\u001b[0m     \u001b[38;5;28;01mreturn\u001b[39;00m \u001b[43mdraw\u001b[49m\u001b[43m(\u001b[49m\u001b[43martist\u001b[49m\u001b[43m,\u001b[49m\u001b[43m \u001b[49m\u001b[43mrenderer\u001b[49m\u001b[43m)\u001b[49m\n\u001b[0;32m     73\u001b[0m \u001b[38;5;28;01mfinally\u001b[39;00m:\n\u001b[0;32m     74\u001b[0m     \u001b[38;5;28;01mif\u001b[39;00m artist\u001b[38;5;241m.\u001b[39mget_agg_filter() \u001b[38;5;129;01mis\u001b[39;00m \u001b[38;5;129;01mnot\u001b[39;00m \u001b[38;5;28;01mNone\u001b[39;00m:\n",
      "File \u001b[1;32md:\\Project\\DataMining\\.venv\\lib\\site-packages\\matplotlib\\figure.py:3162\u001b[0m, in \u001b[0;36mFigure.draw\u001b[1;34m(self, renderer)\u001b[0m\n\u001b[0;32m   3159\u001b[0m             \u001b[38;5;66;03m# ValueError can occur when resizing a window.\u001b[39;00m\n\u001b[0;32m   3161\u001b[0m     \u001b[38;5;28mself\u001b[39m\u001b[38;5;241m.\u001b[39mpatch\u001b[38;5;241m.\u001b[39mdraw(renderer)\n\u001b[1;32m-> 3162\u001b[0m     \u001b[43mmimage\u001b[49m\u001b[38;5;241;43m.\u001b[39;49m\u001b[43m_draw_list_compositing_images\u001b[49m\u001b[43m(\u001b[49m\n\u001b[0;32m   3163\u001b[0m \u001b[43m        \u001b[49m\u001b[43mrenderer\u001b[49m\u001b[43m,\u001b[49m\u001b[43m \u001b[49m\u001b[38;5;28;43mself\u001b[39;49m\u001b[43m,\u001b[49m\u001b[43m \u001b[49m\u001b[43martists\u001b[49m\u001b[43m,\u001b[49m\u001b[43m \u001b[49m\u001b[38;5;28;43mself\u001b[39;49m\u001b[38;5;241;43m.\u001b[39;49m\u001b[43msuppressComposite\u001b[49m\u001b[43m)\u001b[49m\n\u001b[0;32m   3165\u001b[0m     renderer\u001b[38;5;241m.\u001b[39mclose_group(\u001b[38;5;124m'\u001b[39m\u001b[38;5;124mfigure\u001b[39m\u001b[38;5;124m'\u001b[39m)\n\u001b[0;32m   3166\u001b[0m \u001b[38;5;28;01mfinally\u001b[39;00m:\n",
      "File \u001b[1;32md:\\Project\\DataMining\\.venv\\lib\\site-packages\\matplotlib\\image.py:132\u001b[0m, in \u001b[0;36m_draw_list_compositing_images\u001b[1;34m(renderer, parent, artists, suppress_composite)\u001b[0m\n\u001b[0;32m    130\u001b[0m \u001b[38;5;28;01mif\u001b[39;00m not_composite \u001b[38;5;129;01mor\u001b[39;00m \u001b[38;5;129;01mnot\u001b[39;00m has_images:\n\u001b[0;32m    131\u001b[0m     \u001b[38;5;28;01mfor\u001b[39;00m a \u001b[38;5;129;01min\u001b[39;00m artists:\n\u001b[1;32m--> 132\u001b[0m         \u001b[43ma\u001b[49m\u001b[38;5;241;43m.\u001b[39;49m\u001b[43mdraw\u001b[49m\u001b[43m(\u001b[49m\u001b[43mrenderer\u001b[49m\u001b[43m)\u001b[49m\n\u001b[0;32m    133\u001b[0m \u001b[38;5;28;01melse\u001b[39;00m:\n\u001b[0;32m    134\u001b[0m     \u001b[38;5;66;03m# Composite any adjacent images together\u001b[39;00m\n\u001b[0;32m    135\u001b[0m     image_group \u001b[38;5;241m=\u001b[39m []\n",
      "File \u001b[1;32md:\\Project\\DataMining\\.venv\\lib\\site-packages\\matplotlib\\artist.py:72\u001b[0m, in \u001b[0;36mallow_rasterization.<locals>.draw_wrapper\u001b[1;34m(artist, renderer)\u001b[0m\n\u001b[0;32m     69\u001b[0m     \u001b[38;5;28;01mif\u001b[39;00m artist\u001b[38;5;241m.\u001b[39mget_agg_filter() \u001b[38;5;129;01mis\u001b[39;00m \u001b[38;5;129;01mnot\u001b[39;00m \u001b[38;5;28;01mNone\u001b[39;00m:\n\u001b[0;32m     70\u001b[0m         renderer\u001b[38;5;241m.\u001b[39mstart_filter()\n\u001b[1;32m---> 72\u001b[0m     \u001b[38;5;28;01mreturn\u001b[39;00m \u001b[43mdraw\u001b[49m\u001b[43m(\u001b[49m\u001b[43martist\u001b[49m\u001b[43m,\u001b[49m\u001b[43m \u001b[49m\u001b[43mrenderer\u001b[49m\u001b[43m)\u001b[49m\n\u001b[0;32m     73\u001b[0m \u001b[38;5;28;01mfinally\u001b[39;00m:\n\u001b[0;32m     74\u001b[0m     \u001b[38;5;28;01mif\u001b[39;00m artist\u001b[38;5;241m.\u001b[39mget_agg_filter() \u001b[38;5;129;01mis\u001b[39;00m \u001b[38;5;129;01mnot\u001b[39;00m \u001b[38;5;28;01mNone\u001b[39;00m:\n",
      "File \u001b[1;32md:\\Project\\DataMining\\.venv\\lib\\site-packages\\matplotlib\\axes\\_base.py:3137\u001b[0m, in \u001b[0;36m_AxesBase.draw\u001b[1;34m(self, renderer)\u001b[0m\n\u001b[0;32m   3134\u001b[0m \u001b[38;5;28;01mif\u001b[39;00m artists_rasterized:\n\u001b[0;32m   3135\u001b[0m     _draw_rasterized(\u001b[38;5;28mself\u001b[39m\u001b[38;5;241m.\u001b[39mfigure, artists_rasterized, renderer)\n\u001b[1;32m-> 3137\u001b[0m \u001b[43mmimage\u001b[49m\u001b[38;5;241;43m.\u001b[39;49m\u001b[43m_draw_list_compositing_images\u001b[49m\u001b[43m(\u001b[49m\n\u001b[0;32m   3138\u001b[0m \u001b[43m    \u001b[49m\u001b[43mrenderer\u001b[49m\u001b[43m,\u001b[49m\u001b[43m \u001b[49m\u001b[38;5;28;43mself\u001b[39;49m\u001b[43m,\u001b[49m\u001b[43m \u001b[49m\u001b[43martists\u001b[49m\u001b[43m,\u001b[49m\u001b[43m \u001b[49m\u001b[38;5;28;43mself\u001b[39;49m\u001b[38;5;241;43m.\u001b[39;49m\u001b[43mfigure\u001b[49m\u001b[38;5;241;43m.\u001b[39;49m\u001b[43msuppressComposite\u001b[49m\u001b[43m)\u001b[49m\n\u001b[0;32m   3140\u001b[0m renderer\u001b[38;5;241m.\u001b[39mclose_group(\u001b[38;5;124m'\u001b[39m\u001b[38;5;124maxes\u001b[39m\u001b[38;5;124m'\u001b[39m)\n\u001b[0;32m   3141\u001b[0m \u001b[38;5;28mself\u001b[39m\u001b[38;5;241m.\u001b[39mstale \u001b[38;5;241m=\u001b[39m \u001b[38;5;28;01mFalse\u001b[39;00m\n",
      "File \u001b[1;32md:\\Project\\DataMining\\.venv\\lib\\site-packages\\matplotlib\\image.py:132\u001b[0m, in \u001b[0;36m_draw_list_compositing_images\u001b[1;34m(renderer, parent, artists, suppress_composite)\u001b[0m\n\u001b[0;32m    130\u001b[0m \u001b[38;5;28;01mif\u001b[39;00m not_composite \u001b[38;5;129;01mor\u001b[39;00m \u001b[38;5;129;01mnot\u001b[39;00m has_images:\n\u001b[0;32m    131\u001b[0m     \u001b[38;5;28;01mfor\u001b[39;00m a \u001b[38;5;129;01min\u001b[39;00m artists:\n\u001b[1;32m--> 132\u001b[0m         \u001b[43ma\u001b[49m\u001b[38;5;241;43m.\u001b[39;49m\u001b[43mdraw\u001b[49m\u001b[43m(\u001b[49m\u001b[43mrenderer\u001b[49m\u001b[43m)\u001b[49m\n\u001b[0;32m    133\u001b[0m \u001b[38;5;28;01melse\u001b[39;00m:\n\u001b[0;32m    134\u001b[0m     \u001b[38;5;66;03m# Composite any adjacent images together\u001b[39;00m\n\u001b[0;32m    135\u001b[0m     image_group \u001b[38;5;241m=\u001b[39m []\n",
      "File \u001b[1;32md:\\Project\\DataMining\\.venv\\lib\\site-packages\\matplotlib\\artist.py:72\u001b[0m, in \u001b[0;36mallow_rasterization.<locals>.draw_wrapper\u001b[1;34m(artist, renderer)\u001b[0m\n\u001b[0;32m     69\u001b[0m     \u001b[38;5;28;01mif\u001b[39;00m artist\u001b[38;5;241m.\u001b[39mget_agg_filter() \u001b[38;5;129;01mis\u001b[39;00m \u001b[38;5;129;01mnot\u001b[39;00m \u001b[38;5;28;01mNone\u001b[39;00m:\n\u001b[0;32m     70\u001b[0m         renderer\u001b[38;5;241m.\u001b[39mstart_filter()\n\u001b[1;32m---> 72\u001b[0m     \u001b[38;5;28;01mreturn\u001b[39;00m \u001b[43mdraw\u001b[49m\u001b[43m(\u001b[49m\u001b[43martist\u001b[49m\u001b[43m,\u001b[49m\u001b[43m \u001b[49m\u001b[43mrenderer\u001b[49m\u001b[43m)\u001b[49m\n\u001b[0;32m     73\u001b[0m \u001b[38;5;28;01mfinally\u001b[39;00m:\n\u001b[0;32m     74\u001b[0m     \u001b[38;5;28;01mif\u001b[39;00m artist\u001b[38;5;241m.\u001b[39mget_agg_filter() \u001b[38;5;129;01mis\u001b[39;00m \u001b[38;5;129;01mnot\u001b[39;00m \u001b[38;5;28;01mNone\u001b[39;00m:\n",
      "File \u001b[1;32md:\\Project\\DataMining\\.venv\\lib\\site-packages\\matplotlib\\collections.py:2179\u001b[0m, in \u001b[0;36mQuadMesh.draw\u001b[1;34m(self, renderer)\u001b[0m\n\u001b[0;32m   2176\u001b[0m     ys \u001b[38;5;241m=\u001b[39m \u001b[38;5;28mself\u001b[39m\u001b[38;5;241m.\u001b[39mconvert_yunits(offsets[:, \u001b[38;5;241m1\u001b[39m])\n\u001b[0;32m   2177\u001b[0m     offsets \u001b[38;5;241m=\u001b[39m np\u001b[38;5;241m.\u001b[39mcolumn_stack([xs, ys])\n\u001b[1;32m-> 2179\u001b[0m \u001b[38;5;28;43mself\u001b[39;49m\u001b[38;5;241;43m.\u001b[39;49m\u001b[43mupdate_scalarmappable\u001b[49m\u001b[43m(\u001b[49m\u001b[43m)\u001b[49m\n\u001b[0;32m   2181\u001b[0m \u001b[38;5;28;01mif\u001b[39;00m \u001b[38;5;129;01mnot\u001b[39;00m transform\u001b[38;5;241m.\u001b[39mis_affine:\n\u001b[0;32m   2182\u001b[0m     coordinates \u001b[38;5;241m=\u001b[39m \u001b[38;5;28mself\u001b[39m\u001b[38;5;241m.\u001b[39m_coordinates\u001b[38;5;241m.\u001b[39mreshape((\u001b[38;5;241m-\u001b[39m\u001b[38;5;241m1\u001b[39m, \u001b[38;5;241m2\u001b[39m))\n",
      "File \u001b[1;32md:\\Project\\DataMining\\.venv\\lib\\site-packages\\matplotlib\\collections.py:920\u001b[0m, in \u001b[0;36mCollection.update_scalarmappable\u001b[1;34m(self)\u001b[0m\n\u001b[0;32m    918\u001b[0m         \u001b[38;5;66;03m# pcolormesh, scatter, maybe others flatten their _A\u001b[39;00m\n\u001b[0;32m    919\u001b[0m         \u001b[38;5;28mself\u001b[39m\u001b[38;5;241m.\u001b[39m_alpha \u001b[38;5;241m=\u001b[39m \u001b[38;5;28mself\u001b[39m\u001b[38;5;241m.\u001b[39m_alpha\u001b[38;5;241m.\u001b[39mreshape(\u001b[38;5;28mself\u001b[39m\u001b[38;5;241m.\u001b[39m_A\u001b[38;5;241m.\u001b[39mshape)\n\u001b[1;32m--> 920\u001b[0m     \u001b[38;5;28mself\u001b[39m\u001b[38;5;241m.\u001b[39m_mapped_colors \u001b[38;5;241m=\u001b[39m \u001b[38;5;28;43mself\u001b[39;49m\u001b[38;5;241;43m.\u001b[39;49m\u001b[43mto_rgba\u001b[49m\u001b[43m(\u001b[49m\u001b[38;5;28;43mself\u001b[39;49m\u001b[38;5;241;43m.\u001b[39;49m\u001b[43m_A\u001b[49m\u001b[43m,\u001b[49m\u001b[43m \u001b[49m\u001b[38;5;28;43mself\u001b[39;49m\u001b[38;5;241;43m.\u001b[39;49m\u001b[43m_alpha\u001b[49m\u001b[43m)\u001b[49m\n\u001b[0;32m    922\u001b[0m \u001b[38;5;28;01mif\u001b[39;00m \u001b[38;5;28mself\u001b[39m\u001b[38;5;241m.\u001b[39m_face_is_mapped:\n\u001b[0;32m    923\u001b[0m     \u001b[38;5;28mself\u001b[39m\u001b[38;5;241m.\u001b[39m_facecolors \u001b[38;5;241m=\u001b[39m \u001b[38;5;28mself\u001b[39m\u001b[38;5;241m.\u001b[39m_mapped_colors\n",
      "File \u001b[1;32md:\\Project\\DataMining\\.venv\\lib\\site-packages\\matplotlib\\cm.py:431\u001b[0m, in \u001b[0;36mScalarMappable.to_rgba\u001b[1;34m(self, x, alpha, bytes, norm)\u001b[0m\n\u001b[0;32m    429\u001b[0m \u001b[38;5;28;01mif\u001b[39;00m norm:\n\u001b[0;32m    430\u001b[0m     x \u001b[38;5;241m=\u001b[39m \u001b[38;5;28mself\u001b[39m\u001b[38;5;241m.\u001b[39mnorm(x)\n\u001b[1;32m--> 431\u001b[0m rgba \u001b[38;5;241m=\u001b[39m \u001b[38;5;28;43mself\u001b[39;49m\u001b[38;5;241;43m.\u001b[39;49m\u001b[43mcmap\u001b[49m\u001b[43m(\u001b[49m\u001b[43mx\u001b[49m\u001b[43m,\u001b[49m\u001b[43m \u001b[49m\u001b[43malpha\u001b[49m\u001b[38;5;241;43m=\u001b[39;49m\u001b[43malpha\u001b[49m\u001b[43m,\u001b[49m\u001b[43m \u001b[49m\u001b[38;5;28;43mbytes\u001b[39;49m\u001b[38;5;241;43m=\u001b[39;49m\u001b[38;5;28;43mbytes\u001b[39;49m\u001b[43m)\u001b[49m\n\u001b[0;32m    432\u001b[0m \u001b[38;5;28;01mreturn\u001b[39;00m rgba\n",
      "File \u001b[1;32md:\\Project\\DataMining\\.venv\\lib\\site-packages\\matplotlib\\colors.py:764\u001b[0m, in \u001b[0;36mColormap.__call__\u001b[1;34m(self, X, alpha, bytes)\u001b[0m\n\u001b[0;32m    761\u001b[0m \u001b[38;5;28;01mif\u001b[39;00m \u001b[38;5;28mbytes\u001b[39m:\n\u001b[0;32m    762\u001b[0m     lut \u001b[38;5;241m=\u001b[39m (lut \u001b[38;5;241m*\u001b[39m \u001b[38;5;241m255\u001b[39m)\u001b[38;5;241m.\u001b[39mastype(np\u001b[38;5;241m.\u001b[39muint8)\n\u001b[1;32m--> 764\u001b[0m rgba \u001b[38;5;241m=\u001b[39m \u001b[43mlut\u001b[49m\u001b[38;5;241;43m.\u001b[39;49m\u001b[43mtake\u001b[49m\u001b[43m(\u001b[49m\u001b[43mxa\u001b[49m\u001b[43m,\u001b[49m\u001b[43m \u001b[49m\u001b[43maxis\u001b[49m\u001b[38;5;241;43m=\u001b[39;49m\u001b[38;5;241;43m0\u001b[39;49m\u001b[43m,\u001b[49m\u001b[43m \u001b[49m\u001b[43mmode\u001b[49m\u001b[38;5;241;43m=\u001b[39;49m\u001b[38;5;124;43m'\u001b[39;49m\u001b[38;5;124;43mclip\u001b[39;49m\u001b[38;5;124;43m'\u001b[39;49m\u001b[43m)\u001b[49m\n\u001b[0;32m    766\u001b[0m \u001b[38;5;28;01mif\u001b[39;00m alpha \u001b[38;5;129;01mis\u001b[39;00m \u001b[38;5;129;01mnot\u001b[39;00m \u001b[38;5;28;01mNone\u001b[39;00m:\n\u001b[0;32m    767\u001b[0m     alpha \u001b[38;5;241m=\u001b[39m np\u001b[38;5;241m.\u001b[39mclip(alpha, \u001b[38;5;241m0\u001b[39m, \u001b[38;5;241m1\u001b[39m)\n",
      "\u001b[1;31mMemoryError\u001b[0m: Unable to allocate 2.77 GiB for an array with shape (9635, 9635, 4) and data type float64"
     ]
    },
    {
     "data": {
      "text/plain": [
       "<Figure size 1600x1200 with 5 Axes>"
      ]
     },
     "metadata": {},
     "output_type": "display_data"
    }
   ],
   "source": [
    "print(\"=\"*60)\n",
    "print(\"🔨 CREATING TRANSACTION MATRIX (CATEGORY-LEVEL)\")\n",
    "print(\"=\"*60)\n",
    "\n",
    "# ============================================\n",
    "# 1. CREATE CATEGORY-LEVEL BASKETS\n",
    "# ============================================\n",
    "print(\"\\n1️⃣ Creating category-level transaction data...\")\n",
    "\n",
    "# Group by order_id and collect categories\n",
    "category_baskets = baskets.groupby('order_id')['category'].apply(list).reset_index()\n",
    "category_baskets.columns = ['order_id', 'categories']\n",
    "\n",
    "print(f\"   ✅ Total baskets: {len(category_baskets):,}\")\n",
    "\n",
    "# Filter to multi-item orders only\n",
    "category_baskets['num_items'] = category_baskets['categories'].apply(len)\n",
    "multi_item_baskets = category_baskets[category_baskets['num_items'] >= 2].copy()\n",
    "\n",
    "print(f\"   ✅ Multi-item baskets: {len(multi_item_baskets):,}\")\n",
    "print(f\"   ✅ Filtered out single-item orders: {len(category_baskets) - len(multi_item_baskets):,}\")\n",
    "\n",
    "# ============================================\n",
    "# 2. ANALYZE BASKET COMPOSITION\n",
    "# ============================================\n",
    "print(\"\\n2️⃣ Analyzing multi-item basket composition...\")\n",
    "\n",
    "print(f\"\\n📊 Multi-item Basket Statistics:\")\n",
    "print(f\"   Mean categories per basket: {multi_item_baskets['num_items'].mean():.2f}\")\n",
    "print(f\"   Median: {multi_item_baskets['num_items'].median():.0f}\")\n",
    "print(f\"   Max: {multi_item_baskets['num_items'].max()}\")\n",
    "\n",
    "# Top category combinations\n",
    "all_categories_in_baskets = []\n",
    "for cats in multi_item_baskets['categories']:\n",
    "    all_categories_in_baskets.extend(cats)\n",
    "\n",
    "category_freq = pd.Series(all_categories_in_baskets).value_counts()\n",
    "\n",
    "print(f\"\\n📊 Top 10 Categories in Multi-item Baskets:\")\n",
    "for i, (cat, count) in enumerate(category_freq.head(10).items(), 1):\n",
    "    pct = count / len(multi_item_baskets) * 100\n",
    "    print(f\"   {i:2d}. {cat:30s} - {count:,} baskets ({pct:.1f}%)\")\n",
    "\n",
    "# ============================================\n",
    "# 3. CREATE BINARY TRANSACTION MATRIX\n",
    "# ============================================\n",
    "print(\"\\n3️⃣ Creating binary transaction matrix...\")\n",
    "print(\"   ⏳ Encoding transactions...\")\n",
    "\n",
    "# Use TransactionEncoder from mlxtend\n",
    "te = TransactionEncoder()\n",
    "te_array = te.fit(multi_item_baskets['categories']).transform(multi_item_baskets['categories'])\n",
    "\n",
    "# Convert to DataFrame\n",
    "basket_matrix = pd.DataFrame(te_array, columns=te.columns_)\n",
    "\n",
    "print(f\"   ✅ Matrix created!\")\n",
    "print(f\"   ✅ Shape: {basket_matrix.shape}\")\n",
    "print(f\"      Transactions (rows): {basket_matrix.shape[0]:,}\")\n",
    "print(f\"      Categories (columns): {basket_matrix.shape[1]}\")\n",
    "\n",
    "# ============================================\n",
    "# 4. MATRIX ANALYSIS\n",
    "# ============================================\n",
    "print(\"\\n4️⃣ Transaction matrix analysis...\")\n",
    "\n",
    "# Sparsity\n",
    "total_cells = basket_matrix.shape[0] * basket_matrix.shape[1]\n",
    "filled_cells = basket_matrix.sum().sum()\n",
    "sparsity = (1 - filled_cells / total_cells) * 100\n",
    "\n",
    "print(f\"\\n📊 Matrix Statistics:\")\n",
    "print(f\"   Total cells: {total_cells:,}\")\n",
    "print(f\"   Filled cells: {int(filled_cells):,}\")\n",
    "print(f\"   Sparsity: {sparsity:.2f}%\")\n",
    "print(f\"   Density: {100-sparsity:.2f}%\")\n",
    "\n",
    "# Category support (how often each category appears)\n",
    "category_support = basket_matrix.mean().sort_values(ascending=False)\n",
    "\n",
    "print(f\"\\n📊 Top 10 Category Support (% of baskets):\")\n",
    "for i, (cat, support) in enumerate(category_support.head(10).items(), 1):\n",
    "    print(f\"   {i:2d}. {cat:30s} - {support*100:.2f}%\")\n",
    "\n",
    "# ============================================\n",
    "# 5. VISUALIZATION\n",
    "# ============================================\n",
    "print(\"\\n5️⃣ Creating visualizations...\")\n",
    "\n",
    "fig, axes = plt.subplots(2, 2, figsize=(16, 12))\n",
    "\n",
    "# Plot 1: Top categories by support\n",
    "ax1 = axes[0, 0]\n",
    "top_15_support = category_support.head(15)\n",
    "ax1.barh(range(len(top_15_support)), top_15_support.values * 100, color='#2E86AB')\n",
    "ax1.set_yticks(range(len(top_15_support)))\n",
    "ax1.set_yticklabels(top_15_support.index, fontsize=9)\n",
    "ax1.set_xlabel('Support (%)', fontsize=11)\n",
    "ax1.set_title('Top 15 Categories by Support', fontsize=12, fontweight='bold')\n",
    "ax1.invert_yaxis()\n",
    "ax1.grid(axis='x', alpha=0.3)\n",
    "\n",
    "# Plot 2: Basket size distribution\n",
    "ax2 = axes[0, 1]\n",
    "basket_size_dist = multi_item_baskets['num_items'].value_counts().sort_index()\n",
    "ax2.bar(basket_size_dist.index, basket_size_dist.values, color='#F77F00', edgecolor='black')\n",
    "ax2.set_xlabel('Number of Categories in Basket', fontsize=11)\n",
    "ax2.set_ylabel('Number of Baskets', fontsize=11)\n",
    "ax2.set_title('Basket Size Distribution', fontsize=12, fontweight='bold')\n",
    "ax2.grid(axis='y', alpha=0.3)\n",
    "\n",
    "# Add value labels\n",
    "for i, v in enumerate(basket_size_dist.values):\n",
    "    ax2.text(basket_size_dist.index[i], v + max(basket_size_dist.values)*0.02, \n",
    "             str(v), ha='center', fontweight='bold', fontsize=9)\n",
    "\n",
    "# Plot 3: Category co-occurrence heatmap (top 10)\n",
    "ax3 = axes[1, 0]\n",
    "top_10_cats = category_support.head(10).index\n",
    "top_10_matrix = basket_matrix[top_10_cats]\n",
    "correlation = top_10_matrix.T.corr()\n",
    "\n",
    "sns.heatmap(correlation, annot=False, cmap='YlOrRd', ax=ax3, \n",
    "            xticklabels=False, yticklabels=False, cbar_kws={'label': 'Correlation'})\n",
    "ax3.set_title('Category Co-occurrence Pattern (Top 10)', fontsize=12, fontweight='bold')\n",
    "\n",
    "# Plot 4: Matrix sparsity\n",
    "ax4 = axes[1, 1]\n",
    "metrics = ['Filled\\nCells', 'Empty\\nCells']\n",
    "values = [100-sparsity, sparsity]\n",
    "colors = ['#06A77D', '#D62828']\n",
    "wedges, texts, autotexts = ax4.pie(values, labels=metrics, autopct='%1.1f%%', \n",
    "                                     colors=colors, startangle=90, explode=(0.05, 0))\n",
    "ax4.set_title('Transaction Matrix Density', fontsize=12, fontweight='bold')\n",
    "\n",
    "# Make percentage text bold\n",
    "for autotext in autotexts:\n",
    "    autotext.set_color('white')\n",
    "    autotext.set_fontweight('bold')\n",
    "    autotext.set_fontsize(11)\n",
    "\n",
    "plt.tight_layout()\n",
    "plt.savefig('D:/Project/DataMining/ecommerce-customer-analytics/reports/figures/market_basket_transaction_analysis.png', dpi=300, bbox_inches='tight')\n",
    "plt.show()\n",
    "\n",
    "print(\"   ✅ Transaction analysis visualization saved\")\n",
    "\n",
    "# ============================================\n",
    "# 6. SAVE TRANSACTION MATRIX\n",
    "# ============================================\n",
    "print(\"\\n6️⃣ Saving transaction matrix...\")\n",
    "\n",
    "basket_matrix.to_csv('D:/Project/DataMining/ecommerce-customer-analytics/data/processed/basket_matrix.csv', index=False)\n",
    "print(f\"   ✅ Basket matrix saved: basket_matrix.csv\")\n",
    "\n",
    "# ============================================\n",
    "# 7. SUMMARY\n",
    "# ============================================\n",
    "print(\"\\n\" + \"=\"*60)\n",
    "print(\"✅ TRANSACTION MATRIX READY\")\n",
    "print(\"=\"*60)\n",
    "print(f\"\\n📊 Matrix Summary:\")\n",
    "print(f\"   Transactions: {basket_matrix.shape[0]:,}\")\n",
    "print(f\"   Categories: {basket_matrix.shape[1]}\")\n",
    "print(f\"   Sparsity: {sparsity:.2f}%\")\n",
    "print(f\"   Avg categories/basket: {multi_item_baskets['num_items'].mean():.2f}\")\n",
    "\n",
    "print(f\"\\n🎯 Ready for Apriori Algorithm:\")\n",
    "print(f\"   Min support threshold: 0.01 (1%)\")\n",
    "print(f\"   Min confidence threshold: 0.10 (10%)\")\n",
    "print(f\"   Expected: 50-200 association rules\")\n",
    "\n",
    "print(\"=\"*60)"
   ]
  }
 ],
 "metadata": {
  "kernelspec": {
   "display_name": "venv(Data Mining)",
   "language": "python",
   "name": "venv-datamining"
  },
  "language_info": {
   "codemirror_mode": {
    "name": "ipython",
    "version": 3
   },
   "file_extension": ".py",
   "mimetype": "text/x-python",
   "name": "python",
   "nbconvert_exporter": "python",
   "pygments_lexer": "ipython3",
   "version": "3.9.7"
  }
 },
 "nbformat": 4,
 "nbformat_minor": 5
}
